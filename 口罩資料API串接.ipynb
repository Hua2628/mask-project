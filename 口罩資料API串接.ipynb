{
 "cells": [
  {
   "cell_type": "code",
   "execution_count": 1,
   "metadata": {},
   "outputs": [],
   "source": [
    "import requests\n",
    "import json"
   ]
  },
  {
   "cell_type": "code",
   "execution_count": 2,
   "metadata": {},
   "outputs": [],
   "source": [
    "# 利用 requests 對 API 來源發送一個請求\n",
    "url = 'https://raw.githubusercontent.com/kiang/pharmacies/master/json/points.json'\n",
    "response = requests.get(url)\n",
    "\n",
    "# 將請求回應的內容存成一個字串格式\n",
    "d = response.text\n",
    "\n",
    "# 將長得像 json 格式的字串解析成字典或列表\n",
    "data = json.loads(d)"
   ]
  },
  {
   "cell_type": "code",
   "execution_count": 3,
   "metadata": {},
   "outputs": [
    {
     "name": "stdout",
     "output_type": "stream",
     "text": [
      "{'臺北市': 322490, '': 69210, '高雄市': 424170, '臺中市': 536710, '臺南市': 393900, '基隆市': 80100, '新竹市': 45630, '嘉義市': 107840, '新北市': 670270, '桃園市': 331940, '新竹縣': 51350, '宜蘭縣': 106900, '苗栗縣': 131080, '彰化縣': 219400, '南投縣': 91240, '雲林縣': 196990, '嘉義縣': 113180, '屏東縣': 184250, '澎湖縣': 12600, '花蓮縣': 57330, '臺東縣': 28510, '金門縣': 15510, '連江縣': 7930}\n"
     ]
    }
   ],
   "source": [
    "med_count = {}\n",
    "\n",
    "for d in data[\"features\"]:\n",
    "    conunty = d['properties']['county']\n",
    "    if conunty not in med_count:\n",
    "        med_count[conunty] = d['properties'][\"mask_adult\"]\n",
    "    else:\n",
    "        med_count[conunty] +=d['properties'][\"mask_adult\"]\n",
    "\n",
    "print(med_count)"
   ]
  },
  {
   "cell_type": "code",
   "execution_count": 4,
   "metadata": {},
   "outputs": [
    {
     "name": "stdout",
     "output_type": "stream",
     "text": [
      "{'新北市': 670270, '臺中市': 536710, '高雄市': 424170, '臺南市': 393900, '桃園市': 331940, '臺北市': 322490, '彰化縣': 219400, '雲林縣': 196990, '屏東縣': 184250, '苗栗縣': 131080, '嘉義縣': 113180, '嘉義市': 107840, '宜蘭縣': 106900, '南投縣': 91240, '基隆市': 80100, '': 69210, '花蓮縣': 57330, '新竹縣': 51350, '新竹市': 45630, '臺東縣': 28510, '金門縣': 15510, '澎湖縣': 12600, '連江縣': 7930}\n"
     ]
    }
   ],
   "source": [
    "mask_count = dict(sorted(med_count.items(), key=lambda item: item[1], reverse=True))\n",
    "print(mask_count)"
   ]
  },
  {
   "cell_type": "code",
   "execution_count": 5,
   "metadata": {},
   "outputs": [
    {
     "name": "stdout",
     "output_type": "stream",
     "text": [
      "INSERT INTO stocks VALUES('新北市','670270','2024-10-17 10:16:24.938238')\n",
      "INSERT INTO stocks VALUES('臺中市','536710','2024-10-17 10:16:24.946900')\n",
      "INSERT INTO stocks VALUES('高雄市','424170','2024-10-17 10:16:24.955449')\n",
      "INSERT INTO stocks VALUES('臺南市','393900','2024-10-17 10:16:24.958521')\n",
      "INSERT INTO stocks VALUES('桃園市','331940','2024-10-17 10:16:24.958521')\n",
      "INSERT INTO stocks VALUES('臺北市','322490','2024-10-17 10:16:24.958521')\n",
      "INSERT INTO stocks VALUES('彰化縣','219400','2024-10-17 10:16:24.958521')\n",
      "INSERT INTO stocks VALUES('雲林縣','196990','2024-10-17 10:16:24.971057')\n",
      "INSERT INTO stocks VALUES('屏東縣','184250','2024-10-17 10:16:24.971057')\n",
      "INSERT INTO stocks VALUES('苗栗縣','131080','2024-10-17 10:16:24.971057')\n",
      "INSERT INTO stocks VALUES('嘉義縣','113180','2024-10-17 10:16:24.971057')\n",
      "INSERT INTO stocks VALUES('嘉義市','107840','2024-10-17 10:16:24.987496')\n",
      "INSERT INTO stocks VALUES('宜蘭縣','106900','2024-10-17 10:16:24.987496')\n",
      "INSERT INTO stocks VALUES('南投縣','91240','2024-10-17 10:16:24.987496')\n",
      "INSERT INTO stocks VALUES('基隆市','80100','2024-10-17 10:16:24.987496')\n",
      "INSERT INTO stocks VALUES('','69210','2024-10-17 10:16:24.987496')\n",
      "INSERT INTO stocks VALUES('花蓮縣','57330','2024-10-17 10:16:24.987496')\n",
      "INSERT INTO stocks VALUES('新竹縣','51350','2024-10-17 10:16:24.987496')\n",
      "INSERT INTO stocks VALUES('新竹市','45630','2024-10-17 10:16:25.002504')\n",
      "INSERT INTO stocks VALUES('臺東縣','28510','2024-10-17 10:16:25.003648')\n",
      "INSERT INTO stocks VALUES('金門縣','15510','2024-10-17 10:16:25.003648')\n",
      "INSERT INTO stocks VALUES('澎湖縣','12600','2024-10-17 10:16:25.003648')\n",
      "INSERT INTO stocks VALUES('連江縣','7930','2024-10-17 10:16:25.003648')\n",
      "[('新北市', '670270', '2024-10-17 10:16:24.938238'), ('臺中市', '536710', '2024-10-17 10:16:24.946900'), ('高雄市', '424170', '2024-10-17 10:16:24.955449'), ('臺南市', '393900', '2024-10-17 10:16:24.958521'), ('桃園市', '331940', '2024-10-17 10:16:24.958521'), ('臺北市', '322490', '2024-10-17 10:16:24.958521'), ('彰化縣', '219400', '2024-10-17 10:16:24.958521'), ('雲林縣', '196990', '2024-10-17 10:16:24.971057'), ('屏東縣', '184250', '2024-10-17 10:16:24.971057'), ('苗栗縣', '131080', '2024-10-17 10:16:24.971057'), ('嘉義縣', '113180', '2024-10-17 10:16:24.971057'), ('嘉義市', '107840', '2024-10-17 10:16:24.987496'), ('宜蘭縣', '106900', '2024-10-17 10:16:24.987496'), ('南投縣', '91240', '2024-10-17 10:16:24.987496'), ('基隆市', '80100', '2024-10-17 10:16:24.987496'), ('', '69210', '2024-10-17 10:16:24.987496'), ('花蓮縣', '57330', '2024-10-17 10:16:24.987496'), ('新竹縣', '51350', '2024-10-17 10:16:24.987496'), ('新竹市', '45630', '2024-10-17 10:16:25.002504'), ('臺東縣', '28510', '2024-10-17 10:16:25.003648'), ('金門縣', '15510', '2024-10-17 10:16:25.003648'), ('澎湖縣', '12600', '2024-10-17 10:16:25.003648'), ('連江縣', '7930', '2024-10-17 10:16:25.003648')]\n"
     ]
    }
   ],
   "source": [
    "#將資料存入資料庫\n",
    "import sqlite3\n",
    "import datetime\n",
    "\n",
    "conn = sqlite3.connect(\"example.db\")\n",
    "c = conn.cursor()\n",
    "\n",
    "#新增且清空資料表\n",
    "c.execute('''CREATE TABLE IF NOT EXISTS pharmacies\n",
    "          (city text, counts text, createAt datatime)''')\n",
    "\n",
    "c.execute('''DELETE FROM pharmacies''')\n",
    "conn.commit()\n",
    "\n",
    "#新增資料\n",
    "url = 'https://raw.githubusercontent.com/kiang/pharmacies/master/json/points.json'\n",
    "response = requests.get(url)\n",
    "d = response.text\n",
    "data = json.loads(d)\n",
    "med_count = {}\n",
    "for d in data[\"features\"]:\n",
    "    conunty = d['properties']['county']\n",
    "    if conunty not in med_count:\n",
    "        med_count[conunty] = d['properties'][\"mask_adult\"]\n",
    "    else:\n",
    "        med_count[conunty] +=d['properties'][\"mask_adult\"]\n",
    "        \n",
    "mask_count = dict(sorted(med_count.items(), key=lambda item: item[1], reverse=True))\n",
    "\n",
    "# 將每一筆資料分別取出來新增到資料庫\n",
    "for key in mask_count:\n",
    "    city = key\n",
    "    counts = mask_count[key]\n",
    "    t = datetime.datetime.now()\n",
    "    print(f\"INSERT INTO stocks VALUES('{city}','{counts}','{t}')\")\n",
    "    c.execute(f\"INSERT INTO pharmacies VALUES('{city}','{counts}','{t}')\")\n",
    "    conn.commit()\n",
    "\n",
    "#查看存入的資料庫\n",
    "c.execute(\"SELECT * FROM pharmacies\")\n",
    "print(c.fetchall())\n",
    "conn.close()"
   ]
  }
 ],
 "metadata": {
  "kernelspec": {
   "display_name": "Python 3",
   "language": "python",
   "name": "python3"
  },
  "language_info": {
   "codemirror_mode": {
    "name": "ipython",
    "version": 3
   },
   "file_extension": ".py",
   "mimetype": "text/x-python",
   "name": "python",
   "nbconvert_exporter": "python",
   "pygments_lexer": "ipython3",
   "version": "3.11.0"
  }
 },
 "nbformat": 4,
 "nbformat_minor": 2
}
