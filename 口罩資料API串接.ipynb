{
 "cells": [
  {
   "cell_type": "code",
   "execution_count": 1,
   "metadata": {},
   "outputs": [],
   "source": [
    "import requests\n",
    "import json"
   ]
  },
  {
   "cell_type": "code",
   "execution_count": 2,
   "metadata": {},
   "outputs": [],
   "source": [
    "# 利用 requests 對 API 來源發送一個請求\n",
    "url = 'https://raw.githubusercontent.com/kiang/pharmacies/master/json/points.json'\n",
    "response = requests.get(url)\n",
    "\n",
    "# 將請求回應的內容存成一個字串格式\n",
    "d = response.text\n",
    "\n",
    "# 將長得像 json 格式的字串解析成字典或列表\n",
    "data = json.loads(d)"
   ]
  },
  {
   "cell_type": "code",
   "execution_count": 3,
   "metadata": {},
   "outputs": [
    {
     "name": "stdout",
     "output_type": "stream",
     "text": [
      "{'臺北市': 322490, '': 69210, '高雄市': 424170, '臺中市': 536710, '臺南市': 393900, '基隆市': 80100, '新竹市': 45630, '嘉義市': 107840, '新北市': 670270, '桃園市': 331940, '新竹縣': 51350, '宜蘭縣': 106900, '苗栗縣': 131080, '彰化縣': 219400, '南投縣': 91240, '雲林縣': 196990, '嘉義縣': 113180, '屏東縣': 184250, '澎湖縣': 12600, '花蓮縣': 57330, '臺東縣': 28510, '金門縣': 15510, '連江縣': 7930}\n"
     ]
    }
   ],
   "source": [
    "med_count = {}\n",
    "\n",
    "for d in data[\"features\"]:\n",
    "    conunty = d['properties']['county']\n",
    "    if conunty not in med_count:\n",
    "        med_count[conunty] = d['properties'][\"mask_adult\"]\n",
    "    else:\n",
    "        med_count[conunty] +=d['properties'][\"mask_adult\"]\n",
    "\n",
    "print(med_count)"
   ]
  },
  {
   "cell_type": "code",
   "execution_count": 4,
   "metadata": {},
   "outputs": [
    {
     "name": "stdout",
     "output_type": "stream",
     "text": [
      "{'新北市': 670270, '臺中市': 536710, '高雄市': 424170, '臺南市': 393900, '桃園市': 331940, '臺北市': 322490, '彰化縣': 219400, '雲林縣': 196990, '屏東縣': 184250, '苗栗縣': 131080, '嘉義縣': 113180, '嘉義市': 107840, '宜蘭縣': 106900, '南投縣': 91240, '基隆市': 80100, '': 69210, '花蓮縣': 57330, '新竹縣': 51350, '新竹市': 45630, '臺東縣': 28510, '金門縣': 15510, '澎湖縣': 12600, '連江縣': 7930}\n"
     ]
    }
   ],
   "source": [
    "mask_count = dict(sorted(med_count.items(), key=lambda item: item[1], reverse=True))\n",
    "print(mask_count)"
   ]
  }
 ],
 "metadata": {
  "kernelspec": {
   "display_name": "Python 3",
   "language": "python",
   "name": "python3"
  },
  "language_info": {
   "codemirror_mode": {
    "name": "ipython",
    "version": 3
   },
   "file_extension": ".py",
   "mimetype": "text/x-python",
   "name": "python",
   "nbconvert_exporter": "python",
   "pygments_lexer": "ipython3",
   "version": "3.11.0"
  }
 },
 "nbformat": 4,
 "nbformat_minor": 2
}
